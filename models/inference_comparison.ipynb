{
  "nbformat": 4,
  "nbformat_minor": 0,
  "metadata": {
    "colab": {
      "provenance": [],
      "gpuType": "L4",
      "machine_shape": "hm"
    },
    "kernelspec": {
      "name": "python3",
      "display_name": "Python 3"
    },
    "language_info": {
      "name": "python"
    },
    "accelerator": "GPU"
  },
  "cells": [
    {
      "cell_type": "code",
      "execution_count": 1,
      "metadata": {
        "colab": {
          "base_uri": "https://localhost:8080/"
        },
        "id": "7uQ84foxxspa",
        "outputId": "1595a0ef-db90-4266-bfc1-5fce58ae0b86"
      },
      "outputs": [
        {
          "output_type": "stream",
          "name": "stdout",
          "text": [
            "Requirement already satisfied: sentence-transformers in /usr/local/lib/python3.11/dist-packages (3.4.1)\n",
            "Requirement already satisfied: transformers<5.0.0,>=4.41.0 in /usr/local/lib/python3.11/dist-packages (from sentence-transformers) (4.49.0)\n",
            "Requirement already satisfied: tqdm in /usr/local/lib/python3.11/dist-packages (from sentence-transformers) (4.67.1)\n",
            "Requirement already satisfied: torch>=1.11.0 in /usr/local/lib/python3.11/dist-packages (from sentence-transformers) (2.6.0+cu124)\n",
            "Requirement already satisfied: scikit-learn in /usr/local/lib/python3.11/dist-packages (from sentence-transformers) (1.6.1)\n",
            "Requirement already satisfied: scipy in /usr/local/lib/python3.11/dist-packages (from sentence-transformers) (1.14.1)\n",
            "Requirement already satisfied: huggingface-hub>=0.20.0 in /usr/local/lib/python3.11/dist-packages (from sentence-transformers) (0.29.3)\n",
            "Requirement already satisfied: Pillow in /usr/local/lib/python3.11/dist-packages (from sentence-transformers) (11.1.0)\n",
            "Requirement already satisfied: filelock in /usr/local/lib/python3.11/dist-packages (from huggingface-hub>=0.20.0->sentence-transformers) (3.18.0)\n",
            "Requirement already satisfied: fsspec>=2023.5.0 in /usr/local/lib/python3.11/dist-packages (from huggingface-hub>=0.20.0->sentence-transformers) (2025.3.0)\n",
            "Requirement already satisfied: packaging>=20.9 in /usr/local/lib/python3.11/dist-packages (from huggingface-hub>=0.20.0->sentence-transformers) (24.2)\n",
            "Requirement already satisfied: pyyaml>=5.1 in /usr/local/lib/python3.11/dist-packages (from huggingface-hub>=0.20.0->sentence-transformers) (6.0.2)\n",
            "Requirement already satisfied: requests in /usr/local/lib/python3.11/dist-packages (from huggingface-hub>=0.20.0->sentence-transformers) (2.32.3)\n",
            "Requirement already satisfied: typing-extensions>=3.7.4.3 in /usr/local/lib/python3.11/dist-packages (from huggingface-hub>=0.20.0->sentence-transformers) (4.12.2)\n",
            "Requirement already satisfied: networkx in /usr/local/lib/python3.11/dist-packages (from torch>=1.11.0->sentence-transformers) (3.4.2)\n",
            "Requirement already satisfied: jinja2 in /usr/local/lib/python3.11/dist-packages (from torch>=1.11.0->sentence-transformers) (3.1.6)\n",
            "Collecting nvidia-cuda-nvrtc-cu12==12.4.127 (from torch>=1.11.0->sentence-transformers)\n",
            "  Downloading nvidia_cuda_nvrtc_cu12-12.4.127-py3-none-manylinux2014_x86_64.whl.metadata (1.5 kB)\n",
            "Collecting nvidia-cuda-runtime-cu12==12.4.127 (from torch>=1.11.0->sentence-transformers)\n",
            "  Downloading nvidia_cuda_runtime_cu12-12.4.127-py3-none-manylinux2014_x86_64.whl.metadata (1.5 kB)\n",
            "Collecting nvidia-cuda-cupti-cu12==12.4.127 (from torch>=1.11.0->sentence-transformers)\n",
            "  Downloading nvidia_cuda_cupti_cu12-12.4.127-py3-none-manylinux2014_x86_64.whl.metadata (1.6 kB)\n",
            "Collecting nvidia-cudnn-cu12==9.1.0.70 (from torch>=1.11.0->sentence-transformers)\n",
            "  Downloading nvidia_cudnn_cu12-9.1.0.70-py3-none-manylinux2014_x86_64.whl.metadata (1.6 kB)\n",
            "Collecting nvidia-cublas-cu12==12.4.5.8 (from torch>=1.11.0->sentence-transformers)\n",
            "  Downloading nvidia_cublas_cu12-12.4.5.8-py3-none-manylinux2014_x86_64.whl.metadata (1.5 kB)\n",
            "Collecting nvidia-cufft-cu12==11.2.1.3 (from torch>=1.11.0->sentence-transformers)\n",
            "  Downloading nvidia_cufft_cu12-11.2.1.3-py3-none-manylinux2014_x86_64.whl.metadata (1.5 kB)\n",
            "Collecting nvidia-curand-cu12==10.3.5.147 (from torch>=1.11.0->sentence-transformers)\n",
            "  Downloading nvidia_curand_cu12-10.3.5.147-py3-none-manylinux2014_x86_64.whl.metadata (1.5 kB)\n",
            "Collecting nvidia-cusolver-cu12==11.6.1.9 (from torch>=1.11.0->sentence-transformers)\n",
            "  Downloading nvidia_cusolver_cu12-11.6.1.9-py3-none-manylinux2014_x86_64.whl.metadata (1.6 kB)\n",
            "Collecting nvidia-cusparse-cu12==12.3.1.170 (from torch>=1.11.0->sentence-transformers)\n",
            "  Downloading nvidia_cusparse_cu12-12.3.1.170-py3-none-manylinux2014_x86_64.whl.metadata (1.6 kB)\n",
            "Requirement already satisfied: nvidia-cusparselt-cu12==0.6.2 in /usr/local/lib/python3.11/dist-packages (from torch>=1.11.0->sentence-transformers) (0.6.2)\n",
            "Requirement already satisfied: nvidia-nccl-cu12==2.21.5 in /usr/local/lib/python3.11/dist-packages (from torch>=1.11.0->sentence-transformers) (2.21.5)\n",
            "Requirement already satisfied: nvidia-nvtx-cu12==12.4.127 in /usr/local/lib/python3.11/dist-packages (from torch>=1.11.0->sentence-transformers) (12.4.127)\n",
            "Collecting nvidia-nvjitlink-cu12==12.4.127 (from torch>=1.11.0->sentence-transformers)\n",
            "  Downloading nvidia_nvjitlink_cu12-12.4.127-py3-none-manylinux2014_x86_64.whl.metadata (1.5 kB)\n",
            "Requirement already satisfied: triton==3.2.0 in /usr/local/lib/python3.11/dist-packages (from torch>=1.11.0->sentence-transformers) (3.2.0)\n",
            "Requirement already satisfied: sympy==1.13.1 in /usr/local/lib/python3.11/dist-packages (from torch>=1.11.0->sentence-transformers) (1.13.1)\n",
            "Requirement already satisfied: mpmath<1.4,>=1.1.0 in /usr/local/lib/python3.11/dist-packages (from sympy==1.13.1->torch>=1.11.0->sentence-transformers) (1.3.0)\n",
            "Requirement already satisfied: numpy>=1.17 in /usr/local/lib/python3.11/dist-packages (from transformers<5.0.0,>=4.41.0->sentence-transformers) (2.0.2)\n",
            "Requirement already satisfied: regex!=2019.12.17 in /usr/local/lib/python3.11/dist-packages (from transformers<5.0.0,>=4.41.0->sentence-transformers) (2024.11.6)\n",
            "Requirement already satisfied: tokenizers<0.22,>=0.21 in /usr/local/lib/python3.11/dist-packages (from transformers<5.0.0,>=4.41.0->sentence-transformers) (0.21.1)\n",
            "Requirement already satisfied: safetensors>=0.4.1 in /usr/local/lib/python3.11/dist-packages (from transformers<5.0.0,>=4.41.0->sentence-transformers) (0.5.3)\n",
            "Requirement already satisfied: joblib>=1.2.0 in /usr/local/lib/python3.11/dist-packages (from scikit-learn->sentence-transformers) (1.4.2)\n",
            "Requirement already satisfied: threadpoolctl>=3.1.0 in /usr/local/lib/python3.11/dist-packages (from scikit-learn->sentence-transformers) (3.6.0)\n",
            "Requirement already satisfied: MarkupSafe>=2.0 in /usr/local/lib/python3.11/dist-packages (from jinja2->torch>=1.11.0->sentence-transformers) (3.0.2)\n",
            "Requirement already satisfied: charset-normalizer<4,>=2 in /usr/local/lib/python3.11/dist-packages (from requests->huggingface-hub>=0.20.0->sentence-transformers) (3.4.1)\n",
            "Requirement already satisfied: idna<4,>=2.5 in /usr/local/lib/python3.11/dist-packages (from requests->huggingface-hub>=0.20.0->sentence-transformers) (3.10)\n",
            "Requirement already satisfied: urllib3<3,>=1.21.1 in /usr/local/lib/python3.11/dist-packages (from requests->huggingface-hub>=0.20.0->sentence-transformers) (2.3.0)\n",
            "Requirement already satisfied: certifi>=2017.4.17 in /usr/local/lib/python3.11/dist-packages (from requests->huggingface-hub>=0.20.0->sentence-transformers) (2025.1.31)\n",
            "Downloading nvidia_cublas_cu12-12.4.5.8-py3-none-manylinux2014_x86_64.whl (363.4 MB)\n",
            "\u001b[2K   \u001b[90m━━━━━━━━━━━━━━━━━━━━━━━━━━━━━━━━━━━━━━━━\u001b[0m \u001b[32m363.4/363.4 MB\u001b[0m \u001b[31m3.0 MB/s\u001b[0m eta \u001b[36m0:00:00\u001b[0m\n",
            "\u001b[?25hDownloading nvidia_cuda_cupti_cu12-12.4.127-py3-none-manylinux2014_x86_64.whl (13.8 MB)\n",
            "\u001b[2K   \u001b[90m━━━━━━━━━━━━━━━━━━━━━━━━━━━━━━━━━━━━━━━━\u001b[0m \u001b[32m13.8/13.8 MB\u001b[0m \u001b[31m83.4 MB/s\u001b[0m eta \u001b[36m0:00:00\u001b[0m\n",
            "\u001b[?25hDownloading nvidia_cuda_nvrtc_cu12-12.4.127-py3-none-manylinux2014_x86_64.whl (24.6 MB)\n",
            "\u001b[2K   \u001b[90m━━━━━━━━━━━━━━━━━━━━━━━━━━━━━━━━━━━━━━━━\u001b[0m \u001b[32m24.6/24.6 MB\u001b[0m \u001b[31m55.1 MB/s\u001b[0m eta \u001b[36m0:00:00\u001b[0m\n",
            "\u001b[?25hDownloading nvidia_cuda_runtime_cu12-12.4.127-py3-none-manylinux2014_x86_64.whl (883 kB)\n",
            "\u001b[2K   \u001b[90m━━━━━━━━━━━━━━━━━━━━━━━━━━━━━━━━━━━━━━━━\u001b[0m \u001b[32m883.7/883.7 kB\u001b[0m \u001b[31m43.3 MB/s\u001b[0m eta \u001b[36m0:00:00\u001b[0m\n",
            "\u001b[?25hDownloading nvidia_cudnn_cu12-9.1.0.70-py3-none-manylinux2014_x86_64.whl (664.8 MB)\n",
            "\u001b[2K   \u001b[90m━━━━━━━━━━━━━━━━━━━━━━━━━━━━━━━━━━━━━━━━\u001b[0m \u001b[32m664.8/664.8 MB\u001b[0m \u001b[31m2.1 MB/s\u001b[0m eta \u001b[36m0:00:00\u001b[0m\n",
            "\u001b[?25hDownloading nvidia_cufft_cu12-11.2.1.3-py3-none-manylinux2014_x86_64.whl (211.5 MB)\n",
            "\u001b[2K   \u001b[90m━━━━━━━━━━━━━━━━━━━━━━━━━━━━━━━━━━━━━━━━\u001b[0m \u001b[32m211.5/211.5 MB\u001b[0m \u001b[31m4.7 MB/s\u001b[0m eta \u001b[36m0:00:00\u001b[0m\n",
            "\u001b[?25hDownloading nvidia_curand_cu12-10.3.5.147-py3-none-manylinux2014_x86_64.whl (56.3 MB)\n",
            "\u001b[2K   \u001b[90m━━━━━━━━━━━━━━━━━━━━━━━━━━━━━━━━━━━━━━━━\u001b[0m \u001b[32m56.3/56.3 MB\u001b[0m \u001b[31m37.2 MB/s\u001b[0m eta \u001b[36m0:00:00\u001b[0m\n",
            "\u001b[?25hDownloading nvidia_cusolver_cu12-11.6.1.9-py3-none-manylinux2014_x86_64.whl (127.9 MB)\n",
            "\u001b[2K   \u001b[90m━━━━━━━━━━━━━━━━━━━━━━━━━━━━━━━━━━━━━━━━\u001b[0m \u001b[32m127.9/127.9 MB\u001b[0m \u001b[31m17.4 MB/s\u001b[0m eta \u001b[36m0:00:00\u001b[0m\n",
            "\u001b[?25hDownloading nvidia_cusparse_cu12-12.3.1.170-py3-none-manylinux2014_x86_64.whl (207.5 MB)\n",
            "\u001b[2K   \u001b[90m━━━━━━━━━━━━━━━━━━━━━━━━━━━━━━━━━━━━━━━━\u001b[0m \u001b[32m207.5/207.5 MB\u001b[0m \u001b[31m4.8 MB/s\u001b[0m eta \u001b[36m0:00:00\u001b[0m\n",
            "\u001b[?25hDownloading nvidia_nvjitlink_cu12-12.4.127-py3-none-manylinux2014_x86_64.whl (21.1 MB)\n",
            "\u001b[2K   \u001b[90m━━━━━━━━━━━━━━━━━━━━━━━━━━━━━━━━━━━━━━━━\u001b[0m \u001b[32m21.1/21.1 MB\u001b[0m \u001b[31m93.2 MB/s\u001b[0m eta \u001b[36m0:00:00\u001b[0m\n",
            "\u001b[?25hInstalling collected packages: nvidia-nvjitlink-cu12, nvidia-curand-cu12, nvidia-cufft-cu12, nvidia-cuda-runtime-cu12, nvidia-cuda-nvrtc-cu12, nvidia-cuda-cupti-cu12, nvidia-cublas-cu12, nvidia-cusparse-cu12, nvidia-cudnn-cu12, nvidia-cusolver-cu12\n",
            "  Attempting uninstall: nvidia-nvjitlink-cu12\n",
            "    Found existing installation: nvidia-nvjitlink-cu12 12.5.82\n",
            "    Uninstalling nvidia-nvjitlink-cu12-12.5.82:\n",
            "      Successfully uninstalled nvidia-nvjitlink-cu12-12.5.82\n",
            "  Attempting uninstall: nvidia-curand-cu12\n",
            "    Found existing installation: nvidia-curand-cu12 10.3.6.82\n",
            "    Uninstalling nvidia-curand-cu12-10.3.6.82:\n",
            "      Successfully uninstalled nvidia-curand-cu12-10.3.6.82\n",
            "  Attempting uninstall: nvidia-cufft-cu12\n",
            "    Found existing installation: nvidia-cufft-cu12 11.2.3.61\n",
            "    Uninstalling nvidia-cufft-cu12-11.2.3.61:\n",
            "      Successfully uninstalled nvidia-cufft-cu12-11.2.3.61\n",
            "  Attempting uninstall: nvidia-cuda-runtime-cu12\n",
            "    Found existing installation: nvidia-cuda-runtime-cu12 12.5.82\n",
            "    Uninstalling nvidia-cuda-runtime-cu12-12.5.82:\n",
            "      Successfully uninstalled nvidia-cuda-runtime-cu12-12.5.82\n",
            "  Attempting uninstall: nvidia-cuda-nvrtc-cu12\n",
            "    Found existing installation: nvidia-cuda-nvrtc-cu12 12.5.82\n",
            "    Uninstalling nvidia-cuda-nvrtc-cu12-12.5.82:\n",
            "      Successfully uninstalled nvidia-cuda-nvrtc-cu12-12.5.82\n",
            "  Attempting uninstall: nvidia-cuda-cupti-cu12\n",
            "    Found existing installation: nvidia-cuda-cupti-cu12 12.5.82\n",
            "    Uninstalling nvidia-cuda-cupti-cu12-12.5.82:\n",
            "      Successfully uninstalled nvidia-cuda-cupti-cu12-12.5.82\n",
            "  Attempting uninstall: nvidia-cublas-cu12\n",
            "    Found existing installation: nvidia-cublas-cu12 12.5.3.2\n",
            "    Uninstalling nvidia-cublas-cu12-12.5.3.2:\n",
            "      Successfully uninstalled nvidia-cublas-cu12-12.5.3.2\n",
            "  Attempting uninstall: nvidia-cusparse-cu12\n",
            "    Found existing installation: nvidia-cusparse-cu12 12.5.1.3\n",
            "    Uninstalling nvidia-cusparse-cu12-12.5.1.3:\n",
            "      Successfully uninstalled nvidia-cusparse-cu12-12.5.1.3\n",
            "  Attempting uninstall: nvidia-cudnn-cu12\n",
            "    Found existing installation: nvidia-cudnn-cu12 9.3.0.75\n",
            "    Uninstalling nvidia-cudnn-cu12-9.3.0.75:\n",
            "      Successfully uninstalled nvidia-cudnn-cu12-9.3.0.75\n",
            "  Attempting uninstall: nvidia-cusolver-cu12\n",
            "    Found existing installation: nvidia-cusolver-cu12 11.6.3.83\n",
            "    Uninstalling nvidia-cusolver-cu12-11.6.3.83:\n",
            "      Successfully uninstalled nvidia-cusolver-cu12-11.6.3.83\n",
            "Successfully installed nvidia-cublas-cu12-12.4.5.8 nvidia-cuda-cupti-cu12-12.4.127 nvidia-cuda-nvrtc-cu12-12.4.127 nvidia-cuda-runtime-cu12-12.4.127 nvidia-cudnn-cu12-9.1.0.70 nvidia-cufft-cu12-11.2.1.3 nvidia-curand-cu12-10.3.5.147 nvidia-cusolver-cu12-11.6.1.9 nvidia-cusparse-cu12-12.3.1.170 nvidia-nvjitlink-cu12-12.4.127\n"
          ]
        }
      ],
      "source": [
        "!pip install sentence-transformers"
      ]
    },
    {
      "cell_type": "code",
      "source": [
        "import torch\n",
        "import psutil\n",
        "import platform\n",
        "import warnings\n",
        "warnings.filterwarnings(\"ignore\")"
      ],
      "metadata": {
        "id": "o_ksy3BTUMA1"
      },
      "execution_count": 13,
      "outputs": []
    },
    {
      "cell_type": "code",
      "source": [
        "def get_system_info():\n",
        "    print(f\"Operating System: {platform.system()} {platform.release()}\")\n",
        "    print(f\"Processor: {platform.processor()}\")\n",
        "    print(f\"RAM: {round(psutil.virtual_memory().total / (1024**3), 2)} GB\")\n",
        "\n",
        "    if torch.cuda.is_available():\n",
        "        print(f\"GPU: {torch.cuda.get_device_name(0)}\")\n",
        "        print(f\"CUDA Cores: {torch.cuda.get_device_properties(0).multi_processor_count}\")\n",
        "        print(f\"VRAM: {round(torch.cuda.get_device_properties(0).total_memory / (1024**3), 2)} GB\")\n",
        "    else:\n",
        "        print(\"GPU not available, running on CPU.\")\n",
        "\n",
        "# Вывод информации о системе\n",
        "get_system_info()\n"
      ],
      "metadata": {
        "colab": {
          "base_uri": "https://localhost:8080/"
        },
        "id": "30B801Isnc9Z",
        "outputId": "5e502bfe-b05a-4198-e310-bcae7fa65f70"
      },
      "execution_count": 3,
      "outputs": [
        {
          "output_type": "stream",
          "name": "stdout",
          "text": [
            "Operating System: Linux 6.1.85+\n",
            "Processor: x86_64\n",
            "RAM: 52.96 GB\n",
            "GPU: NVIDIA L4\n",
            "CUDA Cores: 58\n",
            "VRAM: 22.16 GB\n"
          ]
        }
      ]
    },
    {
      "cell_type": "markdown",
      "source": [
        "# Инференс моделей"
      ],
      "metadata": {
        "id": "St3hrf8MpDw9"
      }
    },
    {
      "cell_type": "code",
      "source": [
        "import torch\n",
        "import numpy as np\n",
        "import time\n",
        "import re\n",
        "from sentence_transformers import SentenceTransformer, CrossEncoder\n",
        "\n",
        "# Определение устройства\n",
        "device = \"cuda\" if torch.cuda.is_available() else \"cpu\"\n",
        "\n",
        "# Загрузка моделей\n",
        "biencoder = SentenceTransformer(\"nikatonika/chatbot_biencoder_v2_cos_sim\", device=device)\n",
        "cross_encoder = CrossEncoder(\"nikatonika/chatbot_reranker_v2\", device=device)\n",
        "\n",
        "# Загрузка эмбеддингов\n",
        "response_vectors = np.load(\"response_embeddings.npy\")  # (21821, 768)\n",
        "house_responses = np.load(\"questions_answers.npy\", allow_pickle=True)  # (21821,)\n",
        "\n",
        "# def clean_text(text):\n",
        "#     text = str(text).strip()\n",
        "#     text = re.sub(r'^[\\'\"\\[]+|[\\'\"\\]]+$', '', text)\n",
        "#     return text\n",
        "def clean_text(text):\n",
        "    \"\"\"Удаляет внешние кавычки, скобки и обрезает до первой строки.\"\"\"\n",
        "    if isinstance(text, list) or isinstance(text, np.ndarray):\n",
        "        text = text[0]  # если вдруг это список, берём первую строку\n",
        "\n",
        "    text = str(text).strip()\n",
        "    text = re.sub(r'^[\\'\"\\[\\]]+|[\\'\"\\[\\]]+$', '', text)  # убирает скобки и кавычки по краям\n",
        "    text = text.split('\\n')[0]  # обрезает до первой строки\n",
        "    return text.strip()\n",
        "\n",
        "    # Примеры запросов\n",
        "queries = [\n",
        "    \"When will I feel better?\",\n",
        "    \"Do I need surgery?\",\n",
        "    \"What are my chances of survival?\",\n",
        "    \"Can I take painkillers?\",\n",
        "    \"Why am I still sick?\",\n",
        "]"
      ],
      "metadata": {
        "id": "ZqF0GeAuo3wP"
      },
      "execution_count": 20,
      "outputs": []
    },
    {
      "cell_type": "markdown",
      "source": [
        "**Стандартный инференс**"
      ],
      "metadata": {
        "id": "xTDna16u0n1f"
      }
    },
    {
      "cell_type": "code",
      "source": [
        "def find_candidates(query, top_k=10):\n",
        "    \"\"\"Находит top_k наиболее похожих ответов с помощью биэнкодера.\"\"\"\n",
        "    query_embedding = biencoder.encode([query], convert_to_numpy=True, normalize_embeddings=True)\n",
        "\n",
        "    # Используем NumPy-дот-продукт для поиска ближайших ответов\n",
        "    similarities = np.dot(response_vectors, query_embedding.T).flatten()\n",
        "\n",
        "    # Выбираем top_k кандидатов\n",
        "    top_indices = np.argpartition(-similarities, top_k)[:top_k]\n",
        "\n",
        "    return [clean_text(house_responses[idx]) for idx in top_indices]\n",
        "\n",
        "\n",
        "def rerank_with_cross_encoder(query, candidates):\n",
        "    \"\"\"Ранжирует кандидатов с помощью кросс-энкодера.\"\"\"\n",
        "    if not candidates:\n",
        "        return \"I don't know what to say.\"\n",
        "\n",
        "    candidates = [clean_text(c) for c in candidates]\n",
        "    pairs = [[query, c] for c in candidates]\n",
        "\n",
        "    with torch.no_grad():\n",
        "        scores = cross_encoder.predict(pairs, convert_to_numpy=True)\n",
        "\n",
        "    best_idx = np.argmax(scores)\n",
        "    best_response = candidates[best_idx] if best_idx < len(candidates) else \"I don't know what to say.\"\n",
        "\n",
        "    if \"\\n\" in best_response:\n",
        "        best_response = best_response.split(\"\\n\")[0]\n",
        "\n",
        "    return best_response.strip(\"[]'\\\"\")\n",
        "\n",
        "\n",
        "def get_house_response(query, top_k=10):\n",
        "    \"\"\"Получает финальный ответ на основе двух моделей.\"\"\"\n",
        "    candidates = find_candidates(query, top_k=10)\n",
        "    return rerank_with_cross_encoder(query, candidates)\n",
        "\n",
        "# Тест стандартного инференса\n",
        "times = []\n",
        "responses = []\n",
        "\n",
        "for q in queries:\n",
        "    start = time.time()\n",
        "    response = get_house_response(q)\n",
        "    times.append(time.time() - start)\n",
        "    responses.append(response)\n",
        "\n",
        "print(f\"Standard inference time: {np.mean(times):.4f} sec\")\n",
        "\n",
        "print(\"\\nStandard Model Responses:\")\n",
        "for q, r in zip(queries, responses):\n",
        "    print(f\"\\nQuery: {q}\\nResponse: {r}\")"
      ],
      "metadata": {
        "colab": {
          "base_uri": "https://localhost:8080/"
        },
        "id": "eOHqICqmYOcw",
        "outputId": "a82aa096-01f2-415b-c492-696b505c0a1a"
      },
      "execution_count": 21,
      "outputs": [
        {
          "output_type": "stream",
          "name": "stderr",
          "text": [
            "Asking to truncate to max_length but no maximum length is provided and the model has no predefined maximum length. Default to no truncation.\n"
          ]
        },
        {
          "output_type": "stream",
          "name": "stdout",
          "text": [
            "Standard inference time: 0.0733 sec\n",
            "\n",
            "Standard Model Responses:\n",
            "\n",
            "Query: When will I feel better?\n",
            "Response: I don't know what to say.\n",
            "\n",
            "Query: Do I need surgery?\n",
            "Response: I don't know what to say.\n",
            "\n",
            "Query: What are my chances of survival?\n",
            "Response: I remember you saying something about how loyalty to real estate was stupid.\n",
            "\n",
            "Query: Can I take painkillers?\n",
            "Response: A year and a half. Through sleep deprivation or\n",
            "\n",
            "Query: Why am I still sick?\n",
            "Response: I don't know what to say.\n"
          ]
        }
      ]
    },
    {
      "cell_type": "markdown",
      "source": [
        "**Ускоренный инференс**\n",
        "\n",
        "- Оптимизация матричных операций с использованием torch.matmul\n",
        "- Предзагрузка эмбеддингов ответа на GPU\n",
        "- Переход с NumPy на PyTorch (использование torch.matmul() вместо np.dot() )\n",
        "- Использование torch.topk() вместо np.argpartition()\n",
        "- Вместо torch.tensor(numpy_array) используется torch.from_numpy(numpy_array).to(device)"
      ],
      "metadata": {
        "id": "ErS6kuu5Txxz"
      }
    },
    {
      "cell_type": "code",
      "source": [
        "# Преобразование numpy-массива эмбеддингов в torch.Tensor и перенос на GPU (если доступен)\n",
        "response_vectors = torch.tensor(response_vectors, dtype=torch.float32).to(device)\n",
        "\n",
        "def find_candidates_fast(query, top_k=10):\n",
        "    \"\"\"Быстрый поиск кандидатов с использованием ускоренных матричных операций\"\"\"\n",
        "    query_embedding = torch.tensor(\n",
        "        biencoder.encode([query], convert_to_numpy=True, normalize_embeddings=True), dtype=torch.float32\n",
        "    ).to(device)\n",
        "\n",
        "    similarities = torch.matmul(response_vectors, query_embedding.T).squeeze()\n",
        "    top_indices = torch.topk(similarities, k=top_k).indices\n",
        "\n",
        "    return [clean_text(house_responses[idx.cpu().item()]) for idx in top_indices]\n",
        "\n",
        "def rerank_with_cross_encoder_fast(query, candidates):\n",
        "    \"\"\"Ранжирует кандидатов с помощью кросс-энкодера (одиночный запрос).\"\"\"\n",
        "    if not candidates:\n",
        "        return \"I don't know what to say.\"\n",
        "\n",
        "    pairs = [[query, c] for c in candidates]\n",
        "    with torch.no_grad():\n",
        "        scores = cross_encoder.predict(pairs, convert_to_numpy=True)\n",
        "\n",
        "    best_idx = np.argmax(scores)\n",
        "    best_response = candidates[best_idx] if best_idx < len(candidates) else \"I don't know what to say.\"\n",
        "\n",
        "    best_response = best_response.split(\"\\n\")[0].strip()\n",
        "    best_response = clean_text(best_response)\n",
        "\n",
        "    return best_response\n",
        "\n",
        "def get_house_response_fast(query, top_k=10):\n",
        "    \"\"\"Финальный оптимизированный инференс для одного запроса\"\"\"\n",
        "    candidates = find_candidates_fast(query, top_k)\n",
        "    return rerank_with_cross_encoder_fast(query, candidates)\n",
        "\n",
        "# Тест скорости ускоренного инференса (одиночные запросы)\n",
        "times_fast = []\n",
        "responses_fast = []\n",
        "\n",
        "for q in queries:\n",
        "    start = time.time()\n",
        "    response = get_house_response_fast(q)\n",
        "    times_fast.append(time.time() - start)\n",
        "    responses_fast.append(response)\n",
        "\n",
        "print(f\"Optimized inference time: {np.mean(times_fast):.4f} sec\")\n",
        "print(\"\\nOptimized Model Responses:\")\n",
        "for q, r in zip(queries, responses_fast):\n",
        "    print(f\"\\nQuery: {q}\\nResponse: {r}\")"
      ],
      "metadata": {
        "colab": {
          "base_uri": "https://localhost:8080/"
        },
        "id": "5DDgUGwL-nAy",
        "outputId": "623ef30d-3a05-49c8-8790-ed0ab1e39277"
      },
      "execution_count": 23,
      "outputs": [
        {
          "output_type": "stream",
          "name": "stdout",
          "text": [
            "Optimized inference time: 0.0375 sec\n",
            "\n",
            "Optimized Model Responses:\n",
            "\n",
            "Query: When will I feel better?\n",
            "Response: I don't know what to say.\n",
            "\n",
            "Query: Do I need surgery?\n",
            "Response: I don't know what to say.\n",
            "\n",
            "Query: What are my chances of survival?\n",
            "Response: I remember you saying something about how loyalty to real estate was stupid.\n",
            "\n",
            "Query: Can I take painkillers?\n",
            "Response: A year and a half. Through sleep deprivation or\n",
            "\n",
            "Query: Why am I still sick?\n",
            "Response: I don't know what to say.\n"
          ]
        }
      ]
    },
    {
      "cell_type": "markdown",
      "source": [
        "# Сравнение и выводы"
      ],
      "metadata": {
        "id": "xapH9-pAWnry"
      }
    },
    {
      "cell_type": "code",
      "source": [
        "import matplotlib.pyplot as plt\n",
        "\n",
        "# Установка размеров графика\n",
        "plt.figure(figsize=(8, 5))\n",
        "\n",
        "# Позиции для столбцов\n",
        "y_positions = np.arange(len(queries))\n",
        "\n",
        "# Построение графика\n",
        "plt.barh(y_positions - 0.2, times, height=0.4, color=\"red\", label=\"Standard Inference\")\n",
        "plt.barh(y_positions + 0.2, times_fast, height=0.4, color=\"green\", label=\"Optimized Inference\")\n",
        "\n",
        "# Настройки осей\n",
        "plt.yticks(y_positions, queries)\n",
        "plt.xlabel(\"Inference time (sec)\")\n",
        "plt.ylabel(\"Query\")\n",
        "plt.title(\"Comparison of Inference Time per Query\")\n",
        "plt.legend()\n",
        "plt.grid(axis=\"x\", linestyle=\"--\", alpha=0.7)\n",
        "\n",
        "# Отображение графика\n",
        "plt.show()\n",
        "\n",
        "\n",
        "# Вывод результатов\n",
        "print(f\"Standard mean inference time: {np.mean(times):.4f} sec\")\n",
        "print(f\"Optimized mean inference time: {np.mean(times_fast):.4f} sec\")\n",
        "print(f\"Speedup: {np.mean(times) / np.mean(times_fast):.2f}x\")\n",
        "\n",
        "# Проверка совпадения ответов\n",
        "print(\"\\nResponse Match Check:\")\n",
        "for i in range(len(queries)):\n",
        "    match = responses[i] == responses_fast[i]\n",
        "    status = \"MATCH\" if match else \"DIFFERENT\"\n",
        "    print(f\"\\nQuery: {queries[i]}\")\n",
        "    print(f\"Standard:  {responses[i]}\")\n",
        "    print(f\"Optimized: {responses_fast[i]}\")\n",
        "    print(f\"Result: {status}\")"
      ],
      "metadata": {
        "colab": {
          "base_uri": "https://localhost:8080/",
          "height": 1000
        },
        "id": "ddW87pat_Nmi",
        "outputId": "4c59f924-14d8-4c78-c03e-481dc6bd7a0e"
      },
      "execution_count": 26,
      "outputs": [
        {
          "output_type": "display_data",
          "data": {
            "text/plain": [
              "<Figure size 800x500 with 1 Axes>"
            ],
            "image/png": "[encoded data removed]"
          },
          "metadata": {}
        },
        {
          "output_type": "stream",
          "name": "stdout",
          "text": [
            "Standard mean inference time: 0.0733 sec\n",
            "Optimized mean inference time: 0.0375 sec\n",
            "Speedup: 1.96x\n",
            "\n",
            "Response Match Check:\n",
            "\n",
            "Query: When will I feel better?\n",
            "Standard:  I don't know what to say.\n",
            "Optimized: I don't know what to say.\n",
            "Result: MATCH\n",
            "\n",
            "Query: Do I need surgery?\n",
            "Standard:  I don't know what to say.\n",
            "Optimized: I don't know what to say.\n",
            "Result: MATCH\n",
            "\n",
            "Query: What are my chances of survival?\n",
            "Standard:  I remember you saying something about how loyalty to real estate was stupid.\n",
            "Optimized: I remember you saying something about how loyalty to real estate was stupid.\n",
            "Result: MATCH\n",
            "\n",
            "Query: Can I take painkillers?\n",
            "Standard:  A year and a half. Through sleep deprivation or\n",
            "Optimized: A year and a half. Through sleep deprivation or\n",
            "Result: MATCH\n",
            "\n",
            "Query: Why am I still sick?\n",
            "Standard:  I don't know what to say.\n",
            "Optimized: I don't know what to say.\n",
            "Result: MATCH\n"
          ]
        }
      ]
    },
    {
      "cell_type": "markdown",
      "source": [
        "### **Выводы по инференсу модели**  \n",
        "\n",
        "#### **1. Оптимизация инференса**  \n",
        "- Оптимизированная версия инференса **работает быстрее** стандартной, обеспечивая ускорение **в 1.96 раза**.  \n",
        "- Это достигнуто за счет:  \n",
        "  - Переноса всех эмбеддингов ответов на GPU заранее, исключая задержки при каждом запросе.  \n",
        "  - Использования `torch.matmul()` вместо `np.dot()` для вычисления косинусного сходства, что ускоряет операции на GPU.  \n",
        "  - Оптимизированной очистки текста, исключающей ненужные вызовы.  \n",
        "  - Отключения градиентных вычислений (`torch.no_grad()`), что снижает нагрузку на память.  \n",
        "\n",
        "#### **2. Оценка точности модели**  \n",
        "- **Качество ответов не изменилось** при оптимизации — ответы обеих версий модели идентичны.  \n",
        "- Различий в предсказаниях между стандартным и ускоренным инференсом **не обнаружено**.  \n",
        "\n",
        "#### **3. Оценка производительности**  \n",
        "- Тестирование проводилось на **высокопроизводительном сервере**:  \n",
        "  - **ОС**: Linux 6.1.85+  \n",
        "  - **CPU**: x86_64  \n",
        "  - **RAM**: 52.96 GB  \n",
        "  - **GPU**: NVIDIA L4 (CUDA Cores: 58, VRAM: 22.16 GB)  \n",
        "- На **менее мощных устройствах инференс может быть медленнее**, но разница в скорости между стандартным и ускоренным методами сохранится.  \n",
        "\n",
        "#### **4. Итог**  \n",
        "- Оптимизация инференса дала **значительный прирост скорости без потери качества**.  \n",
        "- Модель **в целом справляется со своей задачей**, но **ограничена отсутствием некоторых ответов**.  \n"
      ],
      "metadata": {
        "id": "4H4vQm9zsbw5"
      }
    }
  ]
}